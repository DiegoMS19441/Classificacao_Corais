{
  "nbformat": 4,
  "nbformat_minor": 0,
  "metadata": {
    "colab": {
      "provenance": []
    },
    "kernelspec": {
      "name": "python3",
      "display_name": "Python 3"
    },
    "language_info": {
      "name": "python"
    }
  },
  "cells": [
    {
      "cell_type": "markdown",
      "source": [
        "# Integrantes\n",
        "\n",
        "RM551191 - Diego Mascarenhas Santos (2TDSPV)\n",
        "\n",
        "RM550981 - Henrique Gerson Costa Correia (2TDSPV)\n",
        "\n",
        "RM98482  - Sarah Oliveira Souza Rosa (2TDSPV)\n",
        "\n",
        "RM97798  - Ester Dutra da Silva (2TDSPV)\n",
        "\n",
        "RM99985 - Felipe Batista Gregório (2TDSPY)\n",
        "\n",
        "\n"
      ],
      "metadata": {
        "id": "yorKfnANE9wJ"
      }
    },
    {
      "cell_type": "markdown",
      "source": [
        "\n",
        "\n",
        "# Descritivo + Código\n",
        "\n",
        "O projeto abaixo tem como objetivo identificar corais que estão sofrendo de branqueamento, essa doença afeta toda a fauna áquatica da região.\n",
        "  Utilizamos o teachable Machine para criar um modelo de reconhecimento de corais coloridos (saudaveis) e corais brancos (mortos), utilizamos o keras para a produção desse código.\n",
        "\n",
        "Utilizamos tres datasets de imagens provindos do Kaggle:\n",
        "\n",
        "https://www.kaggle.com/datasets/aneeshdighe/corals-classification\n",
        "\n",
        "https://www.kaggle.com/code/vencerlanz09/corals-image-classification-using-vgg19\n",
        "\n",
        "https://www.kaggle.com/datasets/lprdosmil/unsplash-random-images-collection\n",
        "\n",
        "Link da apresentação da solução:\n",
        "\n",
        "Link da explicação do código:\n",
        "\n",
        "\n"
      ],
      "metadata": {
        "id": "QB5pA3JweH06"
      }
    },
    {
      "cell_type": "code",
      "source": [
        "#Import necessários para tratamento de imagens e carregar o modelo keras\n",
        "from keras.models import load_model\n",
        "from PIL import Image, ImageOps\n",
        "import numpy as np"
      ],
      "metadata": {
        "id": "r_H_7g1YeNUM"
      },
      "execution_count": 6,
      "outputs": []
    },
    {
      "cell_type": "code",
      "source": [
        "#Desativação de notação cientifica\n",
        "np.set_printoptions(suppress=True)\n",
        "\n",
        "# Carregando o modelo keras\n",
        "model = load_model(\"keras_model.h5\", compile=False)\n",
        "\n",
        "# Carregado o arquivo.txt que contém as labes que representam as classes que vamos trabahar\n",
        "# ou seja Coral Branco, Coral Saudavel ou Não é um coral\n",
        "class_names = open(\"labels.txt\", \"r\").readlines()\n",
        "\n",
        "# Cria um array Numpy de 4 dimensões com formato (1, 224, 224, 3) e tipo de dado float32.\n",
        "data = np.ndarray(shape=(1, 224, 224, 3), dtype=np.float32)\n",
        "\n",
        "# Import da imagem que vamos uitlizar para teste.\n",
        "image = Image.open(\"/content/photo-1541958409-7618fd1ad26e.jpg\").convert(\"RGB\")\n",
        "\n",
        "# Aqui estamos redimensionando a imagem.\n",
        "size = (224, 224)\n",
        "image = ImageOps.fit(image, size, Image.Resampling.LANCZOS)\n",
        "\n",
        "# Transformando a imagem num array numpy\n",
        "image_array = np.asarray(image)\n",
        "\n",
        "# Normalizando a imagem\n",
        "normalized_image_array = (image_array.astype(np.float32) / 127.5) - 1\n",
        "\n",
        "# Carregando a imagem no array criado anteriormente\n",
        "data[0] = normalized_image_array\n",
        "\n",
        "# Predições do modelo\n",
        "prediction = model.predict(data)\n",
        "index = np.argmax(prediction)\n",
        "class_name = class_names[index]\n",
        "confidence_score = prediction[0][index]\n",
        "\n",
        "# Impressão na tela do resultado da confiança do modelo testado\n",
        "#O primeiro print mostra qual é a classe a qual a imagem pertence (Coral Saudavel, coral branco ou não é um coral)\n",
        "#O segundo print mostra a probabilidade de ser o objeto no caso da imagem (image01) que utilizei\n",
        "#Se trata de um coral branco\n",
        "print(\"Class:\", class_name[2:], end=\"\")\n",
        "print(\"Confidence Score:\", round(confidence_score * 100, 2))"
      ],
      "metadata": {
        "colab": {
          "base_uri": "https://localhost:8080/"
        },
        "id": "Y5tWn6QgeaKP",
        "outputId": "e77faab7-5f9a-4433-b6cd-986d4b97e9bf"
      },
      "execution_count": 5,
      "outputs": [
        {
          "output_type": "stream",
          "name": "stdout",
          "text": [
            "1/1 [==============================] - 1s 1s/step\n",
            "Class: Não é um coral\n",
            "Confidence Score: 100.0\n"
          ]
        }
      ]
    }
  ]
}
